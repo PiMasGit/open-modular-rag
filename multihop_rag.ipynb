{
 "cells": [
  {
   "cell_type": "markdown",
   "metadata": {},
   "source": [
    "# Multi-hop rag\n",
    "The idea is to de-construct multihop questions in simpler ones. Then, there is a node that aggregates the answers."
   ]
  },
  {
   "cell_type": "code",
   "execution_count": 1,
   "metadata": {},
   "outputs": [],
   "source": [
    "# specify your working directory\n",
    "working_dir = \"/Users/pietromascheroni/open-modular-rag\"\n",
    "# specify the number of retrieved chunks\n",
    "K = 5"
   ]
  },
  {
   "cell_type": "code",
   "execution_count": 2,
   "metadata": {},
   "outputs": [],
   "source": [
    "from dotenv import load_dotenv\n",
    "import os\n",
    "from langchain_chroma import Chroma\n",
    "from langchain_core.prompts import ChatPromptTemplate\n",
    "from langchain_groq import ChatGroq\n",
    "from torch import cuda\n",
    "from typing import Callable\n",
    "from langchain.embeddings.huggingface import HuggingFaceEmbeddings\n",
    "import chromadb\n",
    "\n",
    "import pandas as pd\n",
    "import re\n",
    "import string"
   ]
  },
  {
   "cell_type": "markdown",
   "metadata": {},
   "source": [
    "## Set up the retriever"
   ]
  },
  {
   "cell_type": "code",
   "execution_count": 3,
   "metadata": {},
   "outputs": [
    {
     "name": "stderr",
     "output_type": "stream",
     "text": [
      "/Users/pietromascheroni/open-modular-rag/env/lib/python3.11/site-packages/huggingface_hub/file_download.py:1132: FutureWarning: `resume_download` is deprecated and will be removed in version 1.0.0. Downloads always resume when possible. If you want to force a new download, use `force_download=True`.\n",
      "  warnings.warn(\n",
      "/Users/pietromascheroni/open-modular-rag/env/lib/python3.11/site-packages/huggingface_hub/file_download.py:1132: FutureWarning: `resume_download` is deprecated and will be removed in version 1.0.0. Downloads always resume when possible. If you want to force a new download, use `force_download=True`.\n",
      "  warnings.warn(\n"
     ]
    }
   ],
   "source": [
    "embed_model_id = 'sentence-transformers/all-mpnet-base-v2'\n",
    "\n",
    "device = f'cuda:{cuda.current_device()}' if cuda.is_available() else 'cpu'\n",
    "\n",
    "# Initialize embedding model\n",
    "embedding_model = HuggingFaceEmbeddings(\n",
    "    model_name=embed_model_id,\n",
    "    model_kwargs={'device': device},\n",
    "    encode_kwargs={'device': device, 'batch_size': 32},\n",
    "    cache_folder=working_dir + '/emb_model'\n",
    ")"
   ]
  },
  {
   "cell_type": "code",
   "execution_count": 4,
   "metadata": {},
   "outputs": [],
   "source": [
    "# ChromaDB setup to initilize collection including indeces of all documents\n",
    "# (in case of errors, perform pip uninstall chromadb and pip install chromadb)\n",
    "chroma_client = chromadb.PersistentClient(path=working_dir + \"/vectordb\")"
   ]
  },
  {
   "cell_type": "code",
   "execution_count": 5,
   "metadata": {},
   "outputs": [],
   "source": [
    "# provide a name to setup and reference the vector index\n",
    "collection_name = \"more_agents_paper_self_rag\"\n",
    "# initialize the vector index with the respective similarity search metric\n",
    "vectorstore = chroma_client.get_or_create_collection(collection_name, metadata={\"hnsw:space\": \"cosine\"})"
   ]
  },
  {
   "cell_type": "code",
   "execution_count": 6,
   "metadata": {},
   "outputs": [
    {
     "name": "stdout",
     "output_type": "stream",
     "text": [
      "We have 139 chunks in the vector store\n"
     ]
    }
   ],
   "source": [
    "print(f\"We have {vectorstore.count()} chunks in the vector store\")"
   ]
  },
  {
   "cell_type": "code",
   "execution_count": 7,
   "metadata": {},
   "outputs": [
    {
     "data": {
      "text/plain": [
       "[['task designed to isolate each one. Consider the task detailed below: To start the analysis, we select two datasets with increasing difficulty, i.e., GSM8K and MATH, to calculate the rela- tive performance gain. The relative performance gain η is given by: η = Pm−Ps where Pm and Ps are the perfor- mances (accuracy) with our method and a single LLM query, respectively. The results are shown in',\n",
       "  'based on Table 2. Task Llama2-13B Llama2-70B GPT-3.5-Turbo GSM8K (easy) MATH (hard) 69 200 37 120 16 34 It is noteworthy that the relative performance gain is more substantial with increasing task difficulty. Specifically, we observe that within the same task, the smaller model, Llama2-13B, gains ranging from 28%-200%, but only 8%- 16% over GPT-3.5-Turbo. Moreover, the more challenging task MATH',\n",
       "  'for a given task. Nodes represent steps, while dashed lines indicate alternative potential steps. The depth of nodes represents the number of steps, and the color intensity represents the level of inherent difficulty. Table 5. The relative performance gain (%) becomes more signif- icant when the relative difficulty between the LLM and the task increases. It is calculated based on Table 2. Task',\n",
       "  'across a wide range of tasks. Surpris- ingly, a brute-force ensemble of smaller LLMs can achieve comparable or superior performance to larger LLMs, with a nutshell shown in Figure 1, which will be further expanded in later sections. Moreover, by combining our method with other existing methods, we find the performance can be further improved. By comparing with the performance of complicated',\n",
       "  'when utilizing different LLMs. From these curves, we demonstrate that our method has the following properties: Generalizability. By using our method standalone, the performance can be generally enhanced by increasing the ensemble size. Compatibility. Our method can generally enhance other methods by increasing the ensemble size. 12']]"
      ]
     },
     "execution_count": 7,
     "metadata": {},
     "output_type": "execute_result"
    }
   ],
   "source": [
    "emb_query = embedding_model.embed_documents(['LLM performance'])\n",
    "output = vectorstore.query(query_embeddings=emb_query, n_results=5, include=['distances','documents'])\n",
    "output['documents']"
   ]
  },
  {
   "cell_type": "code",
   "execution_count": 8,
   "metadata": {},
   "outputs": [
    {
     "name": "stdout",
     "output_type": "stream",
     "text": [
      "There are 139 in the langchain-formatted collection\n"
     ]
    }
   ],
   "source": [
    "# Load the vectordb as a langchain object\n",
    "langchain_chroma = Chroma(\n",
    "    client=chroma_client,\n",
    "    collection_name=collection_name,\n",
    "    embedding_function=embedding_model,\n",
    ")\n",
    "\n",
    "print(\"There are\", langchain_chroma._collection.count(), \"in the langchain-formatted collection\")"
   ]
  },
  {
   "cell_type": "code",
   "execution_count": 9,
   "metadata": {},
   "outputs": [
    {
     "data": {
      "text/plain": [
       "[Document(page_content='task designed to isolate each one. Consider the task detailed below: To start the analysis, we select two datasets with increasing difficulty, i.e., GSM8K and MATH, to calculate the rela- tive performance gain. The relative performance gain η is given by: η = Pm−Ps where Pm and Ps are the perfor- mances (accuracy) with our method and a single LLM query, respectively. The results are shown in', metadata={'Last Modified': '2024-05-02T21:13:10', 'Page': '6', 'Source': '/Users/pietromascheroni/open-modular-rag/docs/2402.05120v1.pdf'}),\n",
       " Document(page_content='based on Table 2. Task Llama2-13B Llama2-70B GPT-3.5-Turbo GSM8K (easy) MATH (hard) 69 200 37 120 16 34 It is noteworthy that the relative performance gain is more substantial with increasing task difficulty. Specifically, we observe that within the same task, the smaller model, Llama2-13B, gains ranging from 28%-200%, but only 8%- 16% over GPT-3.5-Turbo. Moreover, the more challenging task MATH', metadata={'Last Modified': '2024-05-02T21:13:10', 'Page': '6', 'Source': '/Users/pietromascheroni/open-modular-rag/docs/2402.05120v1.pdf'}),\n",
       " Document(page_content='for a given task. Nodes represent steps, while dashed lines indicate alternative potential steps. The depth of nodes represents the number of steps, and the color intensity represents the level of inherent difficulty. Table 5. The relative performance gain (%) becomes more signif- icant when the relative difficulty between the LLM and the task increases. It is calculated based on Table 2. Task', metadata={'Last Modified': '2024-05-02T21:13:10', 'Page': '6', 'Source': '/Users/pietromascheroni/open-modular-rag/docs/2402.05120v1.pdf'}),\n",
       " Document(page_content='across a wide range of tasks. Surpris- ingly, a brute-force ensemble of smaller LLMs can achieve comparable or superior performance to larger LLMs, with a nutshell shown in Figure 1, which will be further expanded in later sections. Moreover, by combining our method with other existing methods, we find the performance can be further improved. By comparing with the performance of complicated', metadata={'Last Modified': '2024-05-02T21:13:10', 'Page': '2', 'Source': '/Users/pietromascheroni/open-modular-rag/docs/2402.05120v1.pdf'}),\n",
       " Document(page_content='when utilizing different LLMs. From these curves, we demonstrate that our method has the following properties: Generalizability. By using our method standalone, the performance can be generally enhanced by increasing the ensemble size. Compatibility. Our method can generally enhance other methods by increasing the ensemble size. 12', metadata={'Last Modified': '2024-05-02T21:13:10', 'Page': '12', 'Source': '/Users/pietromascheroni/open-modular-rag/docs/2402.05120v1.pdf'})]"
      ]
     },
     "execution_count": 9,
     "metadata": {},
     "output_type": "execute_result"
    }
   ],
   "source": [
    "retriever = langchain_chroma.as_retriever(\n",
    "    search_kwargs={'k': K,\n",
    "                   #'filter': {'Page': '1'}\n",
    "                   }\n",
    "    )\n",
    "\n",
    "test_query = \"LLM performance\"\n",
    "retriever.invoke(test_query)"
   ]
  },
  {
   "cell_type": "markdown",
   "metadata": {},
   "source": [
    "## LLMs"
   ]
  },
  {
   "cell_type": "markdown",
   "metadata": {},
   "source": [
    "### Query expander"
   ]
  },
  {
   "cell_type": "code",
   "execution_count": 10,
   "metadata": {},
   "outputs": [
    {
     "name": "stderr",
     "output_type": "stream",
     "text": [
      "huggingface/tokenizers: The current process just got forked, after parallelism has already been used. Disabling parallelism to avoid deadlocks...\n",
      "To disable this warning, you can either:\n",
      "\t- Avoid using `tokenizers` before the fork if possible\n",
      "\t- Explicitly set the environment variable TOKENIZERS_PARALLELISM=(true | false)\n"
     ]
    },
    {
     "name": "stdout",
     "output_type": "stream",
     "text": [
      "{'expanded_questions': ['What is the performance of mathematical tasks?', 'What is the performance of reasoning tasks?', 'How do mathematical tasks and reasoning tasks differ in terms of performance?', 'What are the strengths and weaknesses of mathematical tasks in terms of performance?', 'What are the strengths and weaknesses of reasoning tasks in terms of performance?']}\n"
     ]
    }
   ],
   "source": [
    "from langchain.prompts import PromptTemplate\n",
    "from langchain_groq import ChatGroq\n",
    "from langchain_core.output_parsers import JsonOutputParser\n",
    "from dotenv import load_dotenv\n",
    "import os\n",
    "\n",
    "# Load environmental variables\n",
    "load_dotenv()\n",
    "GROQ_API_KEY = os.getenv(\"GROQ_API_KEY\")\n",
    "\n",
    "# set up the LLM\n",
    "llm = ChatGroq(temperature=0, model_name=\"llama3-70b-8192\")\n",
    "\n",
    "\n",
    "prompt = PromptTemplate(\n",
    "    template=\"\"\"<|begin_of_text|><|start_header_id|>system<|end_header_id|> You are a query simplifier. \\n\n",
    "    You are given a question and your task is to expand it in multiple simpler questions. \\n\n",
    "    For example, if you are asked to compare two products, write a question for one product and a second one for the other product. \\n\n",
    "    Generate a maximum of 5 different additional queries. \\n\n",
    "    Provide a list of simplified questions as a JSON with a single key 'expanded_questions' and no premable or explanation.\n",
    "     <|eot_id|><|start_header_id|>user<|end_header_id|>\n",
    "    Here is the user question: {question} \\n <|eot_id|><|start_header_id|>assistant<|end_header_id|>\n",
    "    \"\"\",\n",
    "    input_variables=[\"question\"],\n",
    ")\n",
    "\n",
    "query_expander = prompt | llm | JsonOutputParser()\n",
    "question = \"Compare the performance for mathematical tasks and reasoning tasks.\"\n",
    "docs = retriever.invoke(question)\n",
    "doc_txt = docs[1].page_content\n",
    "print(query_expander.invoke({\"question\": question}))"
   ]
  },
  {
   "cell_type": "code",
   "execution_count": 11,
   "metadata": {},
   "outputs": [],
   "source": [
    "# # alternative initialization: this enforces directly the json format\n",
    "# structured_llm = llm.with_structured_output(method=\"json_mode\", include_raw=False)\n",
    "\n",
    "# retrieval_grader_experimental = prompt | structured_llm\n",
    "# print(retrieval_grader_experimental.invoke({\"question\": question, \"document\": doc_txt}))"
   ]
  },
  {
   "cell_type": "markdown",
   "metadata": {},
   "source": [
    "### RAG generator"
   ]
  },
  {
   "cell_type": "code",
   "execution_count": 12,
   "metadata": {},
   "outputs": [
    {
     "name": "stdout",
     "output_type": "stream",
     "text": [
      "For mathematical tasks, the performance gains range from 1% to 15% on the MATH dataset. For reasoning tasks, the performance gains range from 1% to 13% on the Chess task and from 1% to 11% on the MMLU task.\n"
     ]
    }
   ],
   "source": [
    "from langchain import hub\n",
    "from langchain_core.output_parsers import StrOutputParser\n",
    "from langchain_core.runnables import RunnablePassthrough\n",
    "\n",
    "\n",
    "# Prompt\n",
    "prompt = PromptTemplate(\n",
    "    template=\"\"\"<|begin_of_text|><|start_header_id|>system<|end_header_id|> You are an helpful assistant. \\n\n",
    "    You are given a question and your task is to answer it using the provided context. \\n\n",
    "    Use only the information provided in the context to formulate your answer. \\n\n",
    "    If you are not able to formulate an answer, respond \"I am not able to formulate an answer\". \\n\n",
    "    Use 3 sentences at maximum and keep your answer concise.\n",
    "     <|eot_id|><|start_header_id|>user<|end_header_id|>\n",
    "    Here is the context: {context} \\n\\n\n",
    "    Here is the user question: {question} \\n <|eot_id|><|start_header_id|>assistant<|end_header_id|>\n",
    "    \"\"\",\n",
    "    input_variables=[\"context\",\"question\"],\n",
    ")\n",
    "\n",
    "# Post-processing\n",
    "def format_docs(docs):\n",
    "    return \"\\n\\n\".join(doc.page_content for doc in docs)\n",
    "\n",
    "# chain\n",
    "rag_chain = (\n",
    "    {\"context\": retriever | format_docs, \"question\": RunnablePassthrough()}\n",
    "    | prompt\n",
    "    | llm\n",
    "    | StrOutputParser()\n",
    ")\n",
    "\n",
    "# Run\n",
    "generation = rag_chain.invoke(question)\n",
    "print(generation)"
   ]
  },
  {
   "cell_type": "markdown",
   "metadata": {},
   "source": [
    "### Answer merger"
   ]
  },
  {
   "cell_type": "code",
   "execution_count": 13,
   "metadata": {},
   "outputs": [
    {
     "name": "stdout",
     "output_type": "stream",
     "text": [
      "{'final_answer': 'The models are very good for mathematical tasks, but their accuracy for reasoning tasks is about 0.2.'}\n"
     ]
    }
   ],
   "source": [
    "prompt = PromptTemplate(\n",
    "    template=\"\"\"<|begin_of_text|><|start_header_id|>system<|end_header_id|> You are an answer aggregator. \\n\n",
    "    You are given a list of answers and your task is to aggregate them in order to formulate a final answer to the provided user question. \\n\n",
    "    Provide a final answer as a JSON with a single key 'final_answer' and no premable or explanation.\n",
    "     <|eot_id|><|start_header_id|>user<|end_header_id|>\n",
    "    Here is the list of answers: {list_of_answers} \\n\\n\n",
    "    Here is the user question: {question} \\n <|eot_id|><|start_header_id|>assistant<|end_header_id|>\n",
    "    \"\"\",\n",
    "    input_variables=[\"list_of_answers\",\"question\"],\n",
    ")\n",
    "\n",
    "answer_merger = prompt | llm | JsonOutputParser()\n",
    "question = \"Compare the performance for mathematical tasks and reasoning tasks.\"\n",
    "list_of_answers = [\"The models are very good for mathematical tasks.\", \"The accuracy for reasoning tasks is about 0.2.\"]\n",
    "\n",
    "print(answer_merger.invoke({\"list_of_answers\": list_of_answers, \"question\": question}))"
   ]
  },
  {
   "cell_type": "markdown",
   "metadata": {},
   "source": [
    "## Build the graph using Langgraph"
   ]
  },
  {
   "cell_type": "markdown",
   "metadata": {},
   "source": [
    "### Initialize the graph state"
   ]
  },
  {
   "cell_type": "code",
   "execution_count": 14,
   "metadata": {},
   "outputs": [],
   "source": [
    "from typing_extensions import TypedDict\n",
    "from typing import List\n",
    "\n",
    "\n",
    "class GraphState(TypedDict):\n",
    "    \"\"\"\n",
    "    Represents the state of our graph.\n",
    "\n",
    "    Attributes:\n",
    "        question: question\n",
    "        expanded_questions: LLM-expanded queries\n",
    "        list_of_answers: list of answers to the expanded questions\n",
    "        final_answer: final answer to the question\n",
    "    \"\"\"\n",
    "\n",
    "    question: str\n",
    "    expanded_questions: List[str]\n",
    "    list_of_answers: List[str]\n",
    "    final_answer: str"
   ]
  },
  {
   "cell_type": "markdown",
   "metadata": {},
   "source": [
    "### Nodes"
   ]
  },
  {
   "cell_type": "code",
   "execution_count": 15,
   "metadata": {},
   "outputs": [],
   "source": [
    "from langchain.schema import Document\n",
    "\n",
    "\n",
    "def expand_query(state):\n",
    "    \"\"\"\n",
    "    Expands the original query in multiple, simplified, ones.\n",
    "\n",
    "    Args:\n",
    "        state (dict): The current graph state\n",
    "\n",
    "    Returns:\n",
    "        state (dict): New key added to state, expanded_questions, that contains simplified questions\n",
    "    \"\"\"\n",
    "    print(\"---NODE: QUERY EXPANSION---\")\n",
    "    question = state[\"question\"]\n",
    "\n",
    "    # Apply query expander\n",
    "    expanded_questions_dict = query_expander.invoke(question)\n",
    "    expanded_questions = expanded_questions_dict[\"expanded_questions\"]\n",
    "    \n",
    "    print(\"The expanded queries are: \", expanded_questions)\n",
    "    return {\"expanded_questions\": expanded_questions, \"question\": question}\n",
    "\n",
    "\n",
    "def query_solver(state):\n",
    "    \"\"\"\n",
    "    Generate answers to the expanded queries.\n",
    "\n",
    "    Args:\n",
    "        state (dict): The current graph state\n",
    "\n",
    "    Returns:\n",
    "        state (dict): New key added to state, list_of_answers, that contains RAG output for the expanded queries\n",
    "    \"\"\"\n",
    "    print(\"---NODE: GENERATE ANSWERS TO EXPANDED QUERIES---\")\n",
    "    question = state[\"question\"]\n",
    "    expanded_questions = state[\"expanded_questions\"]\n",
    "\n",
    "    # RAG generation\n",
    "    list_of_answers = []\n",
    "    for query in expanded_questions:\n",
    "        print(\"Answering query: \", query)\n",
    "        list_of_answers += [rag_chain.invoke(query)]\n",
    "\n",
    "    print(\"The list of answers reads: \", list_of_answers)\n",
    "    return {\"list_of_answers\": list_of_answers, \"expanded_questions\": expanded_questions, \"question\": question}\n",
    "\n",
    "\n",
    "def merge_the_answers(state):\n",
    "    \"\"\"\n",
    "    Aggregates the responses from the expanded queries to resolve the initial user question.\n",
    "\n",
    "    Args:\n",
    "        state (dict): The current graph state\n",
    "\n",
    "    Returns:\n",
    "        state (dict): New key added to state, final_answer, that contains the final answer to the user question\n",
    "    \"\"\"\n",
    "\n",
    "    print(\"---NODE: ANSWERS AGGREGATION---\")\n",
    "    question = state[\"question\"]\n",
    "    expanded_questions = state[\"expanded_questions\"]\n",
    "    list_of_answers = state[\"list_of_answers\"]\n",
    "\n",
    "    # Aggregate the answers to the expanded queries\n",
    "    final_answer_dict = answer_merger.invoke({\"list_of_answers\": list_of_answers, \"question\": question})\n",
    "    final_answer = final_answer_dict[\"final_answer\"]\n",
    "\n",
    "    return {\"final_answer\": final_answer, \"list_of_answers\": list_of_answers, \"expanded_questions\": expanded_questions, \"question\": question}\n"
   ]
  },
  {
   "cell_type": "markdown",
   "metadata": {},
   "source": [
    "### Build the graph"
   ]
  },
  {
   "cell_type": "code",
   "execution_count": 16,
   "metadata": {},
   "outputs": [],
   "source": [
    "from langgraph.graph import END, StateGraph\n",
    "\n",
    "workflow = StateGraph(GraphState)\n",
    "\n",
    "# Define the nodes\n",
    "workflow.add_node(\"expand_query\", expand_query) \n",
    "workflow.add_node(\"query_solver\", query_solver)  \n",
    "workflow.add_node(\"merge_the_answers\", merge_the_answers)  \n",
    "\n",
    "# Build graph\n",
    "workflow.set_entry_point(\"expand_query\")\n",
    "workflow.add_edge(\"expand_query\", \"query_solver\")\n",
    "workflow.add_edge(\"query_solver\", \"merge_the_answers\")\n",
    "workflow.add_edge(\"merge_the_answers\", END)\n",
    "\n",
    "# Compile\n",
    "app = workflow.compile()"
   ]
  },
  {
   "cell_type": "code",
   "execution_count": 17,
   "metadata": {},
   "outputs": [
    {
     "data": {
      "image/png": "[encoded data removed]",
      "text/plain": [
       "<IPython.core.display.Image object>"
      ]
     },
     "metadata": {},
     "output_type": "display_data"
    }
   ],
   "source": [
    "from IPython.display import Image, display\n",
    "\n",
    "try:\n",
    "    display(Image(app.get_graph(xray=True).draw_png()))\n",
    "except:\n",
    "    # This requires some extra dependencies and is optional\n",
    "    print(\"doh\")\n",
    "    pass"
   ]
  },
  {
   "cell_type": "markdown",
   "metadata": {},
   "source": [
    "### Run the multi-hop questions over the graph"
   ]
  },
  {
   "cell_type": "code",
   "execution_count": 18,
   "metadata": {},
   "outputs": [
    {
     "name": "stdout",
     "output_type": "stream",
     "text": [
      "---NODE: QUERY EXPANSION---\n",
      "The expanded queries are:  ['What are the key components of the LLM Self-Ensemble method?', 'How does the LLM Self-Ensemble method improve language model performance?', 'What are the advantages of using Multiple LLM Agents Collaboration?', 'How do Multiple LLM Agents Collaboration methods handle conflicting opinions?', 'What are the potential applications of each method in real-world scenarios?']\n",
      "\"Node 'expand_query':\"\n",
      "{ 'expanded_questions': [ 'What are the key components of the LLM '\n",
      "                          'Self-Ensemble method?',\n",
      "                          'How does the LLM Self-Ensemble method improve '\n",
      "                          'language model performance?',\n",
      "                          'What are the advantages of using Multiple LLM '\n",
      "                          'Agents Collaboration?',\n",
      "                          'How do Multiple LLM Agents Collaboration methods '\n",
      "                          'handle conflicting opinions?',\n",
      "                          'What are the potential applications of each method '\n",
      "                          'in real-world scenarios?'],\n",
      "  'question': 'Compare the LLM Self-Ensemble and Multiple LLM Agents '\n",
      "              'Collaboration methods.'}\n",
      "\n",
      "---------\n",
      "\n",
      "---NODE: GENERATE ANSWERS TO EXPANDED QUERIES---\n",
      "Answering query:  What are the key components of the LLM Self-Ensemble method?\n",
      "Answering query:  How does the LLM Self-Ensemble method improve language model performance?\n",
      "Answering query:  What are the advantages of using Multiple LLM Agents Collaboration?\n",
      "Answering query:  How do Multiple LLM Agents Collaboration methods handle conflicting opinions?\n",
      "Answering query:  What are the potential applications of each method in real-world scenarios?\n",
      "The list of answers reads:  ['The key components of the LLM Self-Ensemble method are: generating N samples by querying the LLM M N times, integrating with other methods fM with N times executions, and obtaining a set of samples S = {s1, s2, ..., sN }.', 'The context does not explicitly explain how the LLM Self-Ensemble method improves language model performance. However, it mentions that a brute-force ensemble of smaller LLMs can achieve comparable or superior performance to larger LLMs, and combining this method with other existing methods can further improve performance.', 'The advantages of using Multiple LLM Agents Collaboration include improved performance in processing complex tasks and enhanced reasoning. It can also lead to performance improvement in certain problems. Additionally, it can improve the accuracy of answers through majority voting.', 'According to the context, Multiple LLM Agents Collaboration methods handle conflicting opinions through majority voting, where multiple outputs are generated and the final answer is determined by the most popular response. This approach helps to resolve conflicting opinions and produce a consistent answer.', 'I am not able to formulate an answer based on the provided context, as it primarily focuses on the evaluation and comparison of various methods, but does not explicitly discuss their potential applications in real-world scenarios.']\n",
      "\"Node 'query_solver':\"\n",
      "{ 'expanded_questions': [ 'What are the key components of the LLM '\n",
      "                          'Self-Ensemble method?',\n",
      "                          'How does the LLM Self-Ensemble method improve '\n",
      "                          'language model performance?',\n",
      "                          'What are the advantages of using Multiple LLM '\n",
      "                          'Agents Collaboration?',\n",
      "                          'How do Multiple LLM Agents Collaboration methods '\n",
      "                          'handle conflicting opinions?',\n",
      "                          'What are the potential applications of each method '\n",
      "                          'in real-world scenarios?'],\n",
      "  'list_of_answers': [ 'The key components of the LLM Self-Ensemble method '\n",
      "                       'are: generating N samples by querying the LLM M N '\n",
      "                       'times, integrating with other methods fM with N times '\n",
      "                       'executions, and obtaining a set of samples S = {s1, '\n",
      "                       's2, ..., sN }.',\n",
      "                       'The context does not explicitly explain how the LLM '\n",
      "                       'Self-Ensemble method improves language model '\n",
      "                       'performance. However, it mentions that a brute-force '\n",
      "                       'ensemble of smaller LLMs can achieve comparable or '\n",
      "                       'superior performance to larger LLMs, and combining '\n",
      "                       'this method with other existing methods can further '\n",
      "                       'improve performance.',\n",
      "                       'The advantages of using Multiple LLM Agents '\n",
      "                       'Collaboration include improved performance in '\n",
      "                       'processing complex tasks and enhanced reasoning. It '\n",
      "                       'can also lead to performance improvement in certain '\n",
      "                       'problems. Additionally, it can improve the accuracy of '\n",
      "                       'answers through majority voting.',\n",
      "                       'According to the context, Multiple LLM Agents '\n",
      "                       'Collaboration methods handle conflicting opinions '\n",
      "                       'through majority voting, where multiple outputs are '\n",
      "                       'generated and the final answer is determined by the '\n",
      "                       'most popular response. This approach helps to resolve '\n",
      "                       'conflicting opinions and produce a consistent answer.',\n",
      "                       'I am not able to formulate an answer based on the '\n",
      "                       'provided context, as it primarily focuses on the '\n",
      "                       'evaluation and comparison of various methods, but does '\n",
      "                       'not explicitly discuss their potential applications in '\n",
      "                       'real-world scenarios.'],\n",
      "  'question': 'Compare the LLM Self-Ensemble and Multiple LLM Agents '\n",
      "              'Collaboration methods.'}\n",
      "\n",
      "---------\n",
      "\n",
      "---NODE: ANSWERS AGGREGATION---\n",
      "\"Node 'merge_the_answers':\"\n",
      "{ 'expanded_questions': [ 'What are the key components of the LLM '\n",
      "                          'Self-Ensemble method?',\n",
      "                          'How does the LLM Self-Ensemble method improve '\n",
      "                          'language model performance?',\n",
      "                          'What are the advantages of using Multiple LLM '\n",
      "                          'Agents Collaboration?',\n",
      "                          'How do Multiple LLM Agents Collaboration methods '\n",
      "                          'handle conflicting opinions?',\n",
      "                          'What are the potential applications of each method '\n",
      "                          'in real-world scenarios?'],\n",
      "  'final_answer': 'The LLM Self-Ensemble method involves generating multiple '\n",
      "                  'samples by querying the LLM multiple times, integrating '\n",
      "                  'with other methods, and obtaining a set of samples. On the '\n",
      "                  'other hand, Multiple LLM Agents Collaboration improves '\n",
      "                  'performance in processing complex tasks, enhances '\n",
      "                  'reasoning, and improves accuracy through majority voting. '\n",
      "                  'This collaboration method handles conflicting opinions '\n",
      "                  'through majority voting, where the final answer is '\n",
      "                  'determined by the most popular response. While both methods '\n",
      "                  'can improve language model performance, the context does '\n",
      "                  'not explicitly compare their performance or discuss their '\n",
      "                  'potential applications in real-world scenarios.',\n",
      "  'list_of_answers': [ 'The key components of the LLM Self-Ensemble method '\n",
      "                       'are: generating N samples by querying the LLM M N '\n",
      "                       'times, integrating with other methods fM with N times '\n",
      "                       'executions, and obtaining a set of samples S = {s1, '\n",
      "                       's2, ..., sN }.',\n",
      "                       'The context does not explicitly explain how the LLM '\n",
      "                       'Self-Ensemble method improves language model '\n",
      "                       'performance. However, it mentions that a brute-force '\n",
      "                       'ensemble of smaller LLMs can achieve comparable or '\n",
      "                       'superior performance to larger LLMs, and combining '\n",
      "                       'this method with other existing methods can further '\n",
      "                       'improve performance.',\n",
      "                       'The advantages of using Multiple LLM Agents '\n",
      "                       'Collaboration include improved performance in '\n",
      "                       'processing complex tasks and enhanced reasoning. It '\n",
      "                       'can also lead to performance improvement in certain '\n",
      "                       'problems. Additionally, it can improve the accuracy of '\n",
      "                       'answers through majority voting.',\n",
      "                       'According to the context, Multiple LLM Agents '\n",
      "                       'Collaboration methods handle conflicting opinions '\n",
      "                       'through majority voting, where multiple outputs are '\n",
      "                       'generated and the final answer is determined by the '\n",
      "                       'most popular response. This approach helps to resolve '\n",
      "                       'conflicting opinions and produce a consistent answer.',\n",
      "                       'I am not able to formulate an answer based on the '\n",
      "                       'provided context, as it primarily focuses on the '\n",
      "                       'evaluation and comparison of various methods, but does '\n",
      "                       'not explicitly discuss their potential applications in '\n",
      "                       'real-world scenarios.'],\n",
      "  'question': 'Compare the LLM Self-Ensemble and Multiple LLM Agents '\n",
      "              'Collaboration methods.'}\n",
      "\n",
      "---------\n",
      "\n",
      "('The LLM Self-Ensemble method involves generating multiple samples by '\n",
      " 'querying the LLM multiple times, integrating with other methods, and '\n",
      " 'obtaining a set of samples. On the other hand, Multiple LLM Agents '\n",
      " 'Collaboration improves performance in processing complex tasks, enhances '\n",
      " 'reasoning, and improves accuracy through majority voting. This collaboration '\n",
      " 'method handles conflicting opinions through majority voting, where the final '\n",
      " 'answer is determined by the most popular response. While both methods can '\n",
      " 'improve language model performance, the context does not explicitly compare '\n",
      " 'their performance or discuss their potential applications in real-world '\n",
      " 'scenarios.')\n"
     ]
    }
   ],
   "source": [
    "from pprint import pprint\n",
    "\n",
    "# Run\n",
    "inputs = {\"question\": \"Compare the LLM Self-Ensemble and Multiple LLM Agents Collaboration methods.\"}\n",
    "for output in app.stream(inputs):\n",
    "    for key, value in output.items():\n",
    "        # Node\n",
    "        pprint(f\"Node '{key}':\")\n",
    "        # Optional: print full state at each node\n",
    "        pprint(value, indent=2, width=80, depth=None)\n",
    "    print(\"\\n---------\\n\")\n",
    "\n",
    "# Final generation\n",
    "pprint(value[\"final_answer\"])"
   ]
  }
 ],
 "metadata": {
  "kernelspec": {
   "display_name": "env",
   "language": "python",
   "name": "python3"
  },
  "language_info": {
   "codemirror_mode": {
    "name": "ipython",
    "version": 3
   },
   "file_extension": ".py",
   "mimetype": "text/x-python",
   "name": "python",
   "nbconvert_exporter": "python",
   "pygments_lexer": "ipython3",
   "version": "3.11.9"
  }
 },
 "nbformat": 4,
 "nbformat_minor": 2
}
